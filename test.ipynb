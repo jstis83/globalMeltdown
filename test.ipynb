{
 "cells": [
  {
   "cell_type": "code",
   "execution_count": null,
   "metadata": {},
   "outputs": [],
   "source": [
    "import sqlite3\n",
    "import pandas as pd\n",
    "\n",
    "import pystac_client\n",
    "import odc.stac\n",
    "\n",
    "import os"
   ]
  },
  {
   "cell_type": "code",
   "execution_count": null,
   "metadata": {},
   "outputs": [],
   "source": [
    "catalog = pystac_client.Client.open(\"https://explorer.dea.ga.gov.au/stac\")"
   ]
  },
  {
   "cell_type": "code",
   "execution_count": null,
   "metadata": {},
   "outputs": [],
   "source": [
    "odc.stac.configure_rio(\n",
    "    cloud_defaults=True,\n",
    "    aws={\"aws_unsigned\": True},\n",
    ")"
   ]
  },
  {
   "cell_type": "code",
   "execution_count": null,
   "metadata": {},
   "outputs": [],
   "source": [
    "# Set a bounding box\n",
    "# [xmin, ymin, xmax, ymax] in latitude and longitude\n",
    "bbox = [146.34, -39.05, 146.44, -39.15]\n",
    "\n",
    "# Set a start and end date\n",
    "start_date = \"1988-01-01\"\n",
    "end_date = \"1988-12-31\"\n",
    "\n",
    "# Set product ID as the STAC \"collection\"\n",
    "collections = [\"ga_ls_fc_pc_cyear_3\"]"
   ]
  },
  {
   "cell_type": "code",
   "execution_count": null,
   "metadata": {},
   "outputs": [],
   "source": [
    "# Build a query with the parameters above\n",
    "query = catalog.search(\n",
    "    bbox=bbox,\n",
    "    collections=collections,\n",
    "    datetime=f\"{start_date}/{end_date}\",\n",
    ")\n",
    "\n",
    "# Search the STAC catalog for all items matching the query\n",
    "items = list(query.items())\n",
    "print(f\"Found: {len(items):d} datasets\")\n",
    "\n",
    "items"
   ]
  },
  {
   "cell_type": "code",
   "execution_count": null,
   "metadata": {},
   "outputs": [],
   "source": [
    "ds = odc.stac.load(\n",
    "             items=items,\n",
    "             crs=\"EPSG:3577\",\n",
    "             lat=(bbox[1], bbox[3]),\n",
    "             lon=(bbox[0], bbox[2]),\n",
    "             time=(\"2015-01-01\", \"2018-12-31\"))\n",
    "\n",
    "ds\n"
   ]
  },
  {
   "cell_type": "code",
   "execution_count": null,
   "metadata": {},
   "outputs": [],
   "source": [
    "# Print the loaded dataset\n",
    "print(\"Dataset info:\")\n",
    "print(ds)\n",
    "\n",
    "# Print the type of the bs_pc_10 data\n",
    "print(\"\\nType of bs_pc_10:\")\n",
    "print(type(ds.bs_pc_10))\n",
    "\n",
    "# Print the data type (dtype) of the band values\n",
    "print(\"\\nData type of bs_pc_10 values:\")\n",
    "print(ds.bs_pc_10.dtype)"
   ]
  },
  {
   "cell_type": "code",
   "execution_count": null,
   "metadata": {},
   "outputs": [],
   "source": [
    "ds.bs_pc_10[0].mean().values"
   ]
  },
  {
   "cell_type": "code",
   "execution_count": null,
   "metadata": {},
   "outputs": [],
   "source": [
    "ds.bs_pc_10[1]"
   ]
  },
  {
   "cell_type": "code",
   "execution_count": null,
   "metadata": {},
   "outputs": [],
   "source": [
    "ds.bs_pc_10[0][0]"
   ]
  },
  {
   "cell_type": "code",
   "execution_count": null,
   "metadata": {},
   "outputs": [],
   "source": [
    "bbox = [146.29, -39.10, 146.39, -39.00]\n",
    "\n",
    "# Set a start and end date\n",
    "start_date = \"2015-01-01\"\n",
    "end_date = \"2020-12-31\"\n",
    "\n",
    "# Set product ID as the STAC \"collection\"\n",
    "collections = [\"ga_ls_fc_pc_cyear_3\"]\n",
    "\n",
    "# Build a query with the parameters above\n",
    "query = catalog.search(\n",
    "    bbox=bbox,\n",
    "    collections=collections,\n",
    "    datetime=f\"{start_date}/{end_date}\",\n",
    ")\n",
    "\n",
    "# Search the STAC catalog for all items matching the query\n",
    "items = list(query.items())\n",
    "print(f\"Found: {len(items):d} datasets\")\n",
    "\n",
    "\n",
    "ds = odc.stac.load(\n",
    "             items=items,\n",
    "             crs=\"EPSG:3577\",\n",
    "             lat=(bbox[1], bbox[3]),\n",
    "             lon=(bbox[0], bbox[2]),\n",
    "             time=(\"2015-01-01\", \"2018-12-31\"))\n",
    "\n",
    "ds"
   ]
  },
  {
   "cell_type": "code",
   "execution_count": null,
   "metadata": {},
   "outputs": [],
   "source": [
    "ds.bs_pc_10.__len__()"
   ]
  },
  {
   "cell_type": "code",
   "execution_count": null,
   "metadata": {},
   "outputs": [],
   "source": [
    "ds.bs_pc_10[5]"
   ]
  },
  {
   "cell_type": "code",
   "execution_count": null,
   "metadata": {},
   "outputs": [],
   "source": [
    "ds.bs_pc_10[5][5]"
   ]
  },
  {
   "cell_type": "code",
   "execution_count": null,
   "metadata": {},
   "outputs": [],
   "source": [
    "ds.pv_pc_50[5][5]"
   ]
  },
  {
   "cell_type": "code",
   "execution_count": null,
   "metadata": {},
   "outputs": [],
   "source": [
    "ds.pv_pc_50[5].mean().values"
   ]
  },
  {
   "cell_type": "code",
   "execution_count": null,
   "metadata": {},
   "outputs": [],
   "source": [
    "for item in ds:\n",
    "\n",
    "    if item == 'qa':\n",
    "        continue\n",
    "\n",
    "    mean = ds[item].mean().values\n",
    "\n",
    "    print(f\"Mean value of {item}: {mean}\")"
   ]
  },
  {
   "cell_type": "code",
   "execution_count": null,
   "metadata": {},
   "outputs": [],
   "source": [
    "# Check if the operating system is Linux\n",
    "if os.name == 'posix':\n",
    "    db_path = '/data/oa3802fa25/GlobalMeltdown/fire.db'\n",
    "else:\n",
    "    db_path = 'fire.db'\n",
    "\n",
    "# Connect to the appropriate database\n",
    "conn = sqlite3.connect(db_path)\n",
    "\n",
    "# Create a cursor object\n",
    "cursor = conn.cursor()\n",
    "\n",
    "# fetch data from fire.db\n",
    "cursor.execute('''SELECT * from ground_data LIMIT 10''')\n",
    "cursor.fetchall()\n"
   ]
  },
  {
   "cell_type": "code",
   "execution_count": null,
   "metadata": {},
   "outputs": [],
   "source": [
    "# function to update each row in the data base table\n",
    "def update_ground_data(cursor, conn, data):\n",
    "    cursor.execute('''\n",
    "    UPDATE ground_data\n",
    "    SET bs_pc_10 = ?, bs_pc_50 = ?, bs_pc_90 = ?, pv_pc_10 = ?, pv_pc_50 = ?, pv_pc_90 = ?, npv_pc_10 = ?, npv_pc_50 = ?, npv_pc_90 = ?\n",
    "    WHERE grid_id = ?\n",
    "    ''', (\n",
    "        data['bs_pc_10'], data['bs_pc_50'], data['bs_pc_90'],\n",
    "        data['pv_pc_10'], data['pv_pc_50'], data['pv_pc_90'],\n",
    "        data['npv_pc_10'], data['npv_pc_50'], data['npv_pc_90'],\n",
    "        data['grid_id']\n",
    "    ))\n",
    "\n",
    "    # Commit the changes\n",
    "    conn.commit()"
   ]
  },
  {
   "cell_type": "code",
   "execution_count": null,
   "metadata": {},
   "outputs": [],
   "source": [
    "data_entry = {\n",
    "    'time': '1987-01',\n",
    "    'grid_id': 5831,\n",
    "    'bs_pc_10': float(ds.bs_pc_10.mean().values),\n",
    "    'bs_pc_50': float(ds.bs_pc_50.mean().values),\n",
    "    'bs_pc_90': float(ds.bs_pc_90.mean().values),\n",
    "    'pv_pc_10': float(ds.pv_pc_10.mean().values),\n",
    "    'pv_pc_50': float(ds.pv_pc_50.mean().values),\n",
    "    'pv_pc_90': float(ds.pv_pc_90.mean().values),\n",
    "    'npv_pc_10': float(ds.npv_pc_10.mean().values),\n",
    "    'npv_pc_50': float(ds.npv_pc_50.mean().values),\n",
    "    'npv_pc_90': float(ds.npv_pc_90.mean().values)\n",
    "}\n",
    "\n",
    "update_ground_data(cursor, conn, data_entry)"
   ]
  },
  {
   "cell_type": "code",
   "execution_count": null,
   "metadata": {},
   "outputs": [],
   "source": [
    "# fetch data from fire.db\n",
    "cursor.execute('''SELECT * from ground_data LIMIT 10''')\n",
    "cursor.fetchall()"
   ]
  },
  {
   "cell_type": "code",
   "execution_count": null,
   "metadata": {},
   "outputs": [],
   "source": []
  }
 ],
 "metadata": {
  "kernelspec": {
   "display_name": "comp3",
   "language": "python",
   "name": "python3"
  },
  "language_info": {
   "codemirror_mode": {
    "name": "ipython",
    "version": 3
   },
   "file_extension": ".py",
   "mimetype": "text/x-python",
   "name": "python",
   "nbconvert_exporter": "python",
   "pygments_lexer": "ipython3",
   "version": "3.12.5"
  }
 },
 "nbformat": 4,
 "nbformat_minor": 2
}
